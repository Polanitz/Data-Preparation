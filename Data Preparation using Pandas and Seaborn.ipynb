{
 "cells": [
  {
   "cell_type": "code",
   "execution_count": 1,
   "metadata": {},
   "outputs": [],
   "source": [
    "import pandas as pd\n",
    "import numpy as np\n",
    "import matplotlib.pyplot as plt\n",
    "import seaborn as sb"
   ]
  },
  {
   "cell_type": "code",
   "execution_count": 2,
   "metadata": {},
   "outputs": [
    {
     "data": {
      "text/html": [
       "<div>\n",
       "<style scoped>\n",
       "    .dataframe tbody tr th:only-of-type {\n",
       "        vertical-align: middle;\n",
       "    }\n",
       "\n",
       "    .dataframe tbody tr th {\n",
       "        vertical-align: top;\n",
       "    }\n",
       "\n",
       "    .dataframe thead th {\n",
       "        text-align: right;\n",
       "    }\n",
       "</style>\n",
       "<table border=\"1\" class=\"dataframe\">\n",
       "  <thead>\n",
       "    <tr style=\"text-align: right;\">\n",
       "      <th></th>\n",
       "      <th>Name</th>\n",
       "      <th>Age</th>\n",
       "      <th>Country</th>\n",
       "      <th>Height</th>\n",
       "      <th>Weight</th>\n",
       "      <th>avg</th>\n",
       "      <th>income</th>\n",
       "      <th>rooms</th>\n",
       "      <th>family</th>\n",
       "      <th>type</th>\n",
       "      <th>gen</th>\n",
       "    </tr>\n",
       "  </thead>\n",
       "  <tbody>\n",
       "    <tr>\n",
       "      <td>0</td>\n",
       "      <td>adar</td>\n",
       "      <td>6</td>\n",
       "      <td>SP</td>\n",
       "      <td>113.0</td>\n",
       "      <td>30</td>\n",
       "      <td>70</td>\n",
       "      <td>16700</td>\n",
       "      <td>7</td>\n",
       "      <td>6</td>\n",
       "      <td>1</td>\n",
       "      <td>M</td>\n",
       "    </tr>\n",
       "    <tr>\n",
       "      <td>1</td>\n",
       "      <td>agam</td>\n",
       "      <td>6</td>\n",
       "      <td>GR</td>\n",
       "      <td>172.0</td>\n",
       "      <td>71</td>\n",
       "      <td>92</td>\n",
       "      <td>9200</td>\n",
       "      <td>5</td>\n",
       "      <td>4</td>\n",
       "      <td>2</td>\n",
       "      <td>F</td>\n",
       "    </tr>\n",
       "    <tr>\n",
       "      <td>2</td>\n",
       "      <td>avi</td>\n",
       "      <td>7</td>\n",
       "      <td>NaN</td>\n",
       "      <td>143.0</td>\n",
       "      <td>58</td>\n",
       "      <td>82</td>\n",
       "      <td>12000</td>\n",
       "      <td>3</td>\n",
       "      <td>7</td>\n",
       "      <td>1</td>\n",
       "      <td>M</td>\n",
       "    </tr>\n",
       "    <tr>\n",
       "      <td>3</td>\n",
       "      <td>dani</td>\n",
       "      <td>7</td>\n",
       "      <td>US</td>\n",
       "      <td>NaN</td>\n",
       "      <td>70</td>\n",
       "      <td>90</td>\n",
       "      <td>15000</td>\n",
       "      <td>4</td>\n",
       "      <td>4</td>\n",
       "      <td>2</td>\n",
       "      <td>M</td>\n",
       "    </tr>\n",
       "    <tr>\n",
       "      <td>4</td>\n",
       "      <td>dina</td>\n",
       "      <td>7</td>\n",
       "      <td>ISR</td>\n",
       "      <td>110.0</td>\n",
       "      <td>26</td>\n",
       "      <td>64</td>\n",
       "      <td>10000</td>\n",
       "      <td>6</td>\n",
       "      <td>8</td>\n",
       "      <td>1</td>\n",
       "      <td>F</td>\n",
       "    </tr>\n",
       "    <tr>\n",
       "      <td>5</td>\n",
       "      <td>efrat</td>\n",
       "      <td>7</td>\n",
       "      <td>NaN</td>\n",
       "      <td>115.0</td>\n",
       "      <td>33</td>\n",
       "      <td>75</td>\n",
       "      <td>8000</td>\n",
       "      <td>5</td>\n",
       "      <td>5</td>\n",
       "      <td>3</td>\n",
       "      <td>F</td>\n",
       "    </tr>\n",
       "    <tr>\n",
       "      <td>6</td>\n",
       "      <td>ehud</td>\n",
       "      <td>8</td>\n",
       "      <td>ISR</td>\n",
       "      <td>155.0</td>\n",
       "      <td>66</td>\n",
       "      <td>85</td>\n",
       "      <td>18000</td>\n",
       "      <td>2</td>\n",
       "      <td>7</td>\n",
       "      <td>1</td>\n",
       "      <td>M</td>\n",
       "    </tr>\n",
       "    <tr>\n",
       "      <td>7</td>\n",
       "      <td>eli</td>\n",
       "      <td>8</td>\n",
       "      <td>NaN</td>\n",
       "      <td>155.0</td>\n",
       "      <td>61</td>\n",
       "      <td>84</td>\n",
       "      <td>8900</td>\n",
       "      <td>7</td>\n",
       "      <td>10</td>\n",
       "      <td>2</td>\n",
       "      <td>M</td>\n",
       "    </tr>\n",
       "    <tr>\n",
       "      <td>8</td>\n",
       "      <td>ester</td>\n",
       "      <td>8</td>\n",
       "      <td>ISR</td>\n",
       "      <td>NaN</td>\n",
       "      <td>48</td>\n",
       "      <td>79</td>\n",
       "      <td>19600</td>\n",
       "      <td>2</td>\n",
       "      <td>4</td>\n",
       "      <td>1</td>\n",
       "      <td>F</td>\n",
       "    </tr>\n",
       "    <tr>\n",
       "      <td>9</td>\n",
       "      <td>evyatar</td>\n",
       "      <td>8</td>\n",
       "      <td>NaN</td>\n",
       "      <td>110.0</td>\n",
       "      <td>34</td>\n",
       "      <td>72</td>\n",
       "      <td>7600</td>\n",
       "      <td>3</td>\n",
       "      <td>4</td>\n",
       "      <td>1</td>\n",
       "      <td>M</td>\n",
       "    </tr>\n",
       "    <tr>\n",
       "      <td>10</td>\n",
       "      <td>itamar</td>\n",
       "      <td>8</td>\n",
       "      <td>EN</td>\n",
       "      <td>110.0</td>\n",
       "      <td>30</td>\n",
       "      <td>71</td>\n",
       "      <td>27000</td>\n",
       "      <td>2</td>\n",
       "      <td>5</td>\n",
       "      <td>2</td>\n",
       "      <td>M</td>\n",
       "    </tr>\n",
       "    <tr>\n",
       "      <td>11</td>\n",
       "      <td>liel</td>\n",
       "      <td>8</td>\n",
       "      <td>NaN</td>\n",
       "      <td>142.0</td>\n",
       "      <td>55</td>\n",
       "      <td>84</td>\n",
       "      <td>24000</td>\n",
       "      <td>2</td>\n",
       "      <td>7</td>\n",
       "      <td>1</td>\n",
       "      <td>M</td>\n",
       "    </tr>\n",
       "    <tr>\n",
       "      <td>12</td>\n",
       "      <td>lilach</td>\n",
       "      <td>9</td>\n",
       "      <td>ISR</td>\n",
       "      <td>192.0</td>\n",
       "      <td>88</td>\n",
       "      <td>94</td>\n",
       "      <td>23000</td>\n",
       "      <td>5</td>\n",
       "      <td>6</td>\n",
       "      <td>2</td>\n",
       "      <td>F</td>\n",
       "    </tr>\n",
       "    <tr>\n",
       "      <td>13</td>\n",
       "      <td>mia</td>\n",
       "      <td>9</td>\n",
       "      <td>NaN</td>\n",
       "      <td>NaN</td>\n",
       "      <td>49</td>\n",
       "      <td>82</td>\n",
       "      <td>12800</td>\n",
       "      <td>4</td>\n",
       "      <td>5</td>\n",
       "      <td>3</td>\n",
       "      <td>F</td>\n",
       "    </tr>\n",
       "    <tr>\n",
       "      <td>14</td>\n",
       "      <td>michal</td>\n",
       "      <td>9</td>\n",
       "      <td>US</td>\n",
       "      <td>132.0</td>\n",
       "      <td>53</td>\n",
       "      <td>79</td>\n",
       "      <td>20400</td>\n",
       "      <td>5</td>\n",
       "      <td>7</td>\n",
       "      <td>3</td>\n",
       "      <td>F</td>\n",
       "    </tr>\n",
       "    <tr>\n",
       "      <td>15</td>\n",
       "      <td>moshe</td>\n",
       "      <td>9</td>\n",
       "      <td>GR</td>\n",
       "      <td>128.0</td>\n",
       "      <td>43</td>\n",
       "      <td>80</td>\n",
       "      <td>42000</td>\n",
       "      <td>6</td>\n",
       "      <td>5</td>\n",
       "      <td>3</td>\n",
       "      <td>M</td>\n",
       "    </tr>\n",
       "    <tr>\n",
       "      <td>16</td>\n",
       "      <td>noya</td>\n",
       "      <td>9</td>\n",
       "      <td>SP</td>\n",
       "      <td>90.0</td>\n",
       "      <td>27</td>\n",
       "      <td>68</td>\n",
       "      <td>18200</td>\n",
       "      <td>6</td>\n",
       "      <td>5</td>\n",
       "      <td>1</td>\n",
       "      <td>F</td>\n",
       "    </tr>\n",
       "    <tr>\n",
       "      <td>17</td>\n",
       "      <td>ofer</td>\n",
       "      <td>10</td>\n",
       "      <td>NaN</td>\n",
       "      <td>NaN</td>\n",
       "      <td>34</td>\n",
       "      <td>71</td>\n",
       "      <td>9300</td>\n",
       "      <td>4</td>\n",
       "      <td>8</td>\n",
       "      <td>1</td>\n",
       "      <td>M</td>\n",
       "    </tr>\n",
       "    <tr>\n",
       "      <td>18</td>\n",
       "      <td>ohad</td>\n",
       "      <td>10</td>\n",
       "      <td>ISR</td>\n",
       "      <td>159.0</td>\n",
       "      <td>64</td>\n",
       "      <td>83</td>\n",
       "      <td>12700</td>\n",
       "      <td>4</td>\n",
       "      <td>8</td>\n",
       "      <td>1</td>\n",
       "      <td>M</td>\n",
       "    </tr>\n",
       "    <tr>\n",
       "      <td>19</td>\n",
       "      <td>omer</td>\n",
       "      <td>10</td>\n",
       "      <td>US</td>\n",
       "      <td>162.0</td>\n",
       "      <td>68</td>\n",
       "      <td>87</td>\n",
       "      <td>34500</td>\n",
       "      <td>6</td>\n",
       "      <td>8</td>\n",
       "      <td>2</td>\n",
       "      <td>F</td>\n",
       "    </tr>\n",
       "    <tr>\n",
       "      <td>20</td>\n",
       "      <td>orit</td>\n",
       "      <td>44</td>\n",
       "      <td>US</td>\n",
       "      <td>123.0</td>\n",
       "      <td>40</td>\n",
       "      <td>78</td>\n",
       "      <td>18900</td>\n",
       "      <td>3</td>\n",
       "      <td>7</td>\n",
       "      <td>3</td>\n",
       "      <td>F</td>\n",
       "    </tr>\n",
       "    <tr>\n",
       "      <td>21</td>\n",
       "      <td>orit</td>\n",
       "      <td>11</td>\n",
       "      <td>NaN</td>\n",
       "      <td>175.0</td>\n",
       "      <td>73</td>\n",
       "      <td>89</td>\n",
       "      <td>54100</td>\n",
       "      <td>4</td>\n",
       "      <td>3</td>\n",
       "      <td>2</td>\n",
       "      <td>F</td>\n",
       "    </tr>\n",
       "    <tr>\n",
       "      <td>22</td>\n",
       "      <td>rina</td>\n",
       "      <td>11</td>\n",
       "      <td>EN</td>\n",
       "      <td>NaN</td>\n",
       "      <td>31</td>\n",
       "      <td>73</td>\n",
       "      <td>30000</td>\n",
       "      <td>2</td>\n",
       "      <td>5</td>\n",
       "      <td>3</td>\n",
       "      <td>F</td>\n",
       "    </tr>\n",
       "    <tr>\n",
       "      <td>23</td>\n",
       "      <td>shely</td>\n",
       "      <td>11</td>\n",
       "      <td>ISR</td>\n",
       "      <td>148.0</td>\n",
       "      <td>60</td>\n",
       "      <td>86</td>\n",
       "      <td>8000</td>\n",
       "      <td>4</td>\n",
       "      <td>3</td>\n",
       "      <td>1</td>\n",
       "      <td>F</td>\n",
       "    </tr>\n",
       "    <tr>\n",
       "      <td>24</td>\n",
       "      <td>talya</td>\n",
       "      <td>12</td>\n",
       "      <td>FR</td>\n",
       "      <td>167.0</td>\n",
       "      <td>67</td>\n",
       "      <td>89</td>\n",
       "      <td>10900</td>\n",
       "      <td>6</td>\n",
       "      <td>6</td>\n",
       "      <td>2</td>\n",
       "      <td>F</td>\n",
       "    </tr>\n",
       "    <tr>\n",
       "      <td>25</td>\n",
       "      <td>tomer</td>\n",
       "      <td>12</td>\n",
       "      <td>NaN</td>\n",
       "      <td>128.0</td>\n",
       "      <td>53</td>\n",
       "      <td>82</td>\n",
       "      <td>45000</td>\n",
       "      <td>5</td>\n",
       "      <td>4</td>\n",
       "      <td>3</td>\n",
       "      <td>M</td>\n",
       "    </tr>\n",
       "    <tr>\n",
       "      <td>26</td>\n",
       "      <td>udi</td>\n",
       "      <td>13</td>\n",
       "      <td>FR</td>\n",
       "      <td>NaN</td>\n",
       "      <td>55</td>\n",
       "      <td>85</td>\n",
       "      <td>35000</td>\n",
       "      <td>7</td>\n",
       "      <td>6</td>\n",
       "      <td>2</td>\n",
       "      <td>M</td>\n",
       "    </tr>\n",
       "    <tr>\n",
       "      <td>27</td>\n",
       "      <td>yafit</td>\n",
       "      <td>13</td>\n",
       "      <td>FR</td>\n",
       "      <td>180.0</td>\n",
       "      <td>90</td>\n",
       "      <td>93</td>\n",
       "      <td>12800</td>\n",
       "      <td>2</td>\n",
       "      <td>4</td>\n",
       "      <td>1</td>\n",
       "      <td>F</td>\n",
       "    </tr>\n",
       "    <tr>\n",
       "      <td>28</td>\n",
       "      <td>yoav</td>\n",
       "      <td>13</td>\n",
       "      <td>EN</td>\n",
       "      <td>120.0</td>\n",
       "      <td>36</td>\n",
       "      <td>74</td>\n",
       "      <td>17300</td>\n",
       "      <td>5</td>\n",
       "      <td>8</td>\n",
       "      <td>3</td>\n",
       "      <td>M</td>\n",
       "    </tr>\n",
       "    <tr>\n",
       "      <td>29</td>\n",
       "      <td>yosi</td>\n",
       "      <td>14</td>\n",
       "      <td>SP</td>\n",
       "      <td>110.0</td>\n",
       "      <td>32</td>\n",
       "      <td>74</td>\n",
       "      <td>22000</td>\n",
       "      <td>5</td>\n",
       "      <td>6</td>\n",
       "      <td>1</td>\n",
       "      <td>M</td>\n",
       "    </tr>\n",
       "  </tbody>\n",
       "</table>\n",
       "</div>"
      ],
      "text/plain": [
       "       Name  Age Country  Height  Weight  avg  income  rooms  family  type gen\n",
       "0      adar    6      SP   113.0      30   70   16700      7       6     1   M\n",
       "1      agam    6      GR   172.0      71   92    9200      5       4     2   F\n",
       "2       avi    7     NaN   143.0      58   82   12000      3       7     1   M\n",
       "3      dani    7      US     NaN      70   90   15000      4       4     2   M\n",
       "4      dina    7     ISR   110.0      26   64   10000      6       8     1   F\n",
       "5     efrat    7     NaN   115.0      33   75    8000      5       5     3   F\n",
       "6      ehud    8     ISR   155.0      66   85   18000      2       7     1   M\n",
       "7       eli    8     NaN   155.0      61   84    8900      7      10     2   M\n",
       "8     ester    8     ISR     NaN      48   79   19600      2       4     1   F\n",
       "9   evyatar    8     NaN   110.0      34   72    7600      3       4     1   M\n",
       "10   itamar    8      EN   110.0      30   71   27000      2       5     2   M\n",
       "11     liel    8     NaN   142.0      55   84   24000      2       7     1   M\n",
       "12   lilach    9     ISR   192.0      88   94   23000      5       6     2   F\n",
       "13      mia    9     NaN     NaN      49   82   12800      4       5     3   F\n",
       "14   michal    9      US   132.0      53   79   20400      5       7     3   F\n",
       "15    moshe    9      GR   128.0      43   80   42000      6       5     3   M\n",
       "16     noya    9      SP    90.0      27   68   18200      6       5     1   F\n",
       "17     ofer   10     NaN     NaN      34   71    9300      4       8     1   M\n",
       "18     ohad   10     ISR   159.0      64   83   12700      4       8     1   M\n",
       "19     omer   10      US   162.0      68   87   34500      6       8     2   F\n",
       "20     orit   44      US   123.0      40   78   18900      3       7     3   F\n",
       "21     orit   11     NaN   175.0      73   89   54100      4       3     2   F\n",
       "22     rina   11      EN     NaN      31   73   30000      2       5     3   F\n",
       "23    shely   11     ISR   148.0      60   86    8000      4       3     1   F\n",
       "24    talya   12      FR   167.0      67   89   10900      6       6     2   F\n",
       "25    tomer   12     NaN   128.0      53   82   45000      5       4     3   M\n",
       "26      udi   13      FR     NaN      55   85   35000      7       6     2   M\n",
       "27    yafit   13      FR   180.0      90   93   12800      2       4     1   F\n",
       "28     yoav   13      EN   120.0      36   74   17300      5       8     3   M\n",
       "29     yosi   14      SP   110.0      32   74   22000      5       6     1   M"
      ]
     },
     "execution_count": 2,
     "metadata": {},
     "output_type": "execute_result"
    }
   ],
   "source": [
    "df = pd.read_csv('pupils-ex.csv')\n",
    "df"
   ]
  },
  {
   "cell_type": "markdown",
   "metadata": {},
   "source": [
    "# 2 שיטות לזיהוי ערכים חסרים"
   ]
  },
  {
   "cell_type": "code",
   "execution_count": 3,
   "metadata": {},
   "outputs": [
    {
     "name": "stdout",
     "output_type": "stream",
     "text": [
      "<class 'pandas.core.frame.DataFrame'>\n",
      "RangeIndex: 30 entries, 0 to 29\n",
      "Data columns (total 11 columns):\n",
      "Name       30 non-null object\n",
      "Age        30 non-null int64\n",
      "Country    21 non-null object\n",
      "Height     24 non-null float64\n",
      "Weight     30 non-null int64\n",
      "avg        30 non-null int64\n",
      "income     30 non-null int64\n",
      "rooms      30 non-null int64\n",
      "family     30 non-null int64\n",
      "type       30 non-null int64\n",
      "gen        30 non-null object\n",
      "dtypes: float64(1), int64(7), object(3)\n",
      "memory usage: 2.7+ KB\n"
     ]
    }
   ],
   "source": [
    "df.info()"
   ]
  },
  {
   "cell_type": "code",
   "execution_count": 4,
   "metadata": {},
   "outputs": [
    {
     "data": {
      "text/plain": [
       "Name       0\n",
       "Age        0\n",
       "Country    9\n",
       "Height     6\n",
       "Weight     0\n",
       "avg        0\n",
       "income     0\n",
       "rooms      0\n",
       "family     0\n",
       "type       0\n",
       "gen        0\n",
       "dtype: int64"
      ]
     },
     "execution_count": 4,
     "metadata": {},
     "output_type": "execute_result"
    }
   ],
   "source": [
    "df.isna().sum()"
   ]
  },
  {
   "cell_type": "code",
   "execution_count": 5,
   "metadata": {},
   "outputs": [
    {
     "data": {
      "text/plain": [
       "139.125"
      ]
     },
     "execution_count": 5,
     "metadata": {},
     "output_type": "execute_result"
    }
   ],
   "source": [
    "df.Height.mean()"
   ]
  },
  {
   "cell_type": "code",
   "execution_count": 6,
   "metadata": {},
   "outputs": [],
   "source": [
    "df.Height.fillna(df.Height.mean(),inplace=True)"
   ]
  },
  {
   "cell_type": "code",
   "execution_count": 7,
   "metadata": {},
   "outputs": [
    {
     "data": {
      "text/plain": [
       "<matplotlib.axes._subplots.AxesSubplot at 0x1f351e9b808>"
      ]
     },
     "execution_count": 7,
     "metadata": {},
     "output_type": "execute_result"
    },
    {
     "data": {
      "image/png": "[encoded data removed]",
      "text/plain": [
       "<Figure size 432x288 with 1 Axes>"
      ]
     },
     "metadata": {
      "needs_background": "light"
     },
     "output_type": "display_data"
    }
   ],
   "source": [
    "df.Height.plot.hist()"
   ]
  },
  {
   "cell_type": "code",
   "execution_count": 8,
   "metadata": {},
   "outputs": [
    {
     "data": {
      "text/plain": [
       "<matplotlib.axes._subplots.AxesSubplot at 0x1f3531ecf08>"
      ]
     },
     "execution_count": 8,
     "metadata": {},
     "output_type": "execute_result"
    },
    {
     "data": {
      "image/png": "[encoded data removed]",
      "text/plain": [
       "<Figure size 432x288 with 1 Axes>"
      ]
     },
     "metadata": {
      "needs_background": "light"
     },
     "output_type": "display_data"
    }
   ],
   "source": [
    "df.Age.plot.hist()"
   ]
  },
  {
   "cell_type": "code",
   "execution_count": 9,
   "metadata": {},
   "outputs": [],
   "source": [
    "df.loc[df.Age > 12,'Age'] = 12"
   ]
  },
  {
   "cell_type": "code",
   "execution_count": 10,
   "metadata": {},
   "outputs": [
    {
     "data": {
      "text/plain": [
       "<matplotlib.axes._subplots.AxesSubplot at 0x1f3532a0b88>"
      ]
     },
     "execution_count": 10,
     "metadata": {},
     "output_type": "execute_result"
    },
    {
     "data": {
      "image/png": "[encoded data removed]",
      "text/plain": [
       "<Figure size 432x288 with 1 Axes>"
      ]
     },
     "metadata": {
      "needs_background": "light"
     },
     "output_type": "display_data"
    }
   ],
   "source": [
    "df.Age.plot.hist()"
   ]
  },
  {
   "cell_type": "code",
   "execution_count": 11,
   "metadata": {},
   "outputs": [
    {
     "data": {
      "text/plain": [
       "Name       0\n",
       "Age        0\n",
       "Country    9\n",
       "Height     0\n",
       "Weight     0\n",
       "avg        0\n",
       "income     0\n",
       "rooms      0\n",
       "family     0\n",
       "type       0\n",
       "gen        0\n",
       "dtype: int64"
      ]
     },
     "execution_count": 11,
     "metadata": {},
     "output_type": "execute_result"
    }
   ],
   "source": [
    "df.isna().sum()"
   ]
  },
  {
   "cell_type": "code",
   "execution_count": 12,
   "metadata": {},
   "outputs": [],
   "source": [
    "# Alterntive for fill null - by some formulas\n",
    "df.loc[df.Height.isnull(),'Height'] = df.Age*12"
   ]
  },
  {
   "cell_type": "code",
   "execution_count": 13,
   "metadata": {},
   "outputs": [],
   "source": [
    "ls = [2,4,6,8,10]*10\n"
   ]
  },
  {
   "cell_type": "code",
   "execution_count": 14,
   "metadata": {},
   "outputs": [],
   "source": [
    "# skip\n",
    "# ls = [2,4,6,8,10]*10\n",
    "# for k,v in df.iterrows():\n",
    "#    if np.isnan(v.Height):\n",
    "#            df.loc[k,'Height'] = ls[v.Age]"
   ]
  },
  {
   "cell_type": "code",
   "execution_count": 15,
   "metadata": {},
   "outputs": [],
   "source": [
    "df.drop(df.loc[df.Age <= 8].index,inplace=True)"
   ]
  },
  {
   "cell_type": "code",
   "execution_count": 16,
   "metadata": {},
   "outputs": [
    {
     "data": {
      "text/html": [
       "<div>\n",
       "<style scoped>\n",
       "    .dataframe tbody tr th:only-of-type {\n",
       "        vertical-align: middle;\n",
       "    }\n",
       "\n",
       "    .dataframe tbody tr th {\n",
       "        vertical-align: top;\n",
       "    }\n",
       "\n",
       "    .dataframe thead th {\n",
       "        text-align: right;\n",
       "    }\n",
       "</style>\n",
       "<table border=\"1\" class=\"dataframe\">\n",
       "  <thead>\n",
       "    <tr style=\"text-align: right;\">\n",
       "      <th></th>\n",
       "      <th>count</th>\n",
       "      <th>mean</th>\n",
       "      <th>std</th>\n",
       "      <th>min</th>\n",
       "      <th>25%</th>\n",
       "      <th>50%</th>\n",
       "      <th>75%</th>\n",
       "      <th>max</th>\n",
       "    </tr>\n",
       "  </thead>\n",
       "  <tbody>\n",
       "    <tr>\n",
       "      <td>Age</td>\n",
       "      <td>18.0</td>\n",
       "      <td>10.666667</td>\n",
       "      <td>1.283378</td>\n",
       "      <td>9.0</td>\n",
       "      <td>9.25</td>\n",
       "      <td>11.000</td>\n",
       "      <td>12.00</td>\n",
       "      <td>12.0</td>\n",
       "    </tr>\n",
       "    <tr>\n",
       "      <td>Height</td>\n",
       "      <td>18.0</td>\n",
       "      <td>142.805556</td>\n",
       "      <td>25.974401</td>\n",
       "      <td>90.0</td>\n",
       "      <td>128.00</td>\n",
       "      <td>139.125</td>\n",
       "      <td>161.25</td>\n",
       "      <td>192.0</td>\n",
       "    </tr>\n",
       "    <tr>\n",
       "      <td>Weight</td>\n",
       "      <td>18.0</td>\n",
       "      <td>53.500000</td>\n",
       "      <td>18.974441</td>\n",
       "      <td>27.0</td>\n",
       "      <td>37.00</td>\n",
       "      <td>53.000</td>\n",
       "      <td>66.25</td>\n",
       "      <td>90.0</td>\n",
       "    </tr>\n",
       "    <tr>\n",
       "      <td>avg</td>\n",
       "      <td>18.0</td>\n",
       "      <td>81.500000</td>\n",
       "      <td>7.532283</td>\n",
       "      <td>68.0</td>\n",
       "      <td>75.00</td>\n",
       "      <td>82.000</td>\n",
       "      <td>86.75</td>\n",
       "      <td>94.0</td>\n",
       "    </tr>\n",
       "    <tr>\n",
       "      <td>income</td>\n",
       "      <td>18.0</td>\n",
       "      <td>23716.666667</td>\n",
       "      <td>13463.643856</td>\n",
       "      <td>8000.0</td>\n",
       "      <td>12800.00</td>\n",
       "      <td>19650.000</td>\n",
       "      <td>33375.00</td>\n",
       "      <td>54100.0</td>\n",
       "    </tr>\n",
       "    <tr>\n",
       "      <td>rooms</td>\n",
       "      <td>18.0</td>\n",
       "      <td>4.611111</td>\n",
       "      <td>1.377931</td>\n",
       "      <td>2.0</td>\n",
       "      <td>4.00</td>\n",
       "      <td>5.000</td>\n",
       "      <td>5.75</td>\n",
       "      <td>7.0</td>\n",
       "    </tr>\n",
       "    <tr>\n",
       "      <td>family</td>\n",
       "      <td>18.0</td>\n",
       "      <td>5.777778</td>\n",
       "      <td>1.664705</td>\n",
       "      <td>3.0</td>\n",
       "      <td>5.00</td>\n",
       "      <td>6.000</td>\n",
       "      <td>7.00</td>\n",
       "      <td>8.0</td>\n",
       "    </tr>\n",
       "    <tr>\n",
       "      <td>type</td>\n",
       "      <td>18.0</td>\n",
       "      <td>2.055556</td>\n",
       "      <td>0.872604</td>\n",
       "      <td>1.0</td>\n",
       "      <td>1.00</td>\n",
       "      <td>2.000</td>\n",
       "      <td>3.00</td>\n",
       "      <td>3.0</td>\n",
       "    </tr>\n",
       "  </tbody>\n",
       "</table>\n",
       "</div>"
      ],
      "text/plain": [
       "        count          mean           std     min       25%        50%  \\\n",
       "Age      18.0     10.666667      1.283378     9.0      9.25     11.000   \n",
       "Height   18.0    142.805556     25.974401    90.0    128.00    139.125   \n",
       "Weight   18.0     53.500000     18.974441    27.0     37.00     53.000   \n",
       "avg      18.0     81.500000      7.532283    68.0     75.00     82.000   \n",
       "income   18.0  23716.666667  13463.643856  8000.0  12800.00  19650.000   \n",
       "rooms    18.0      4.611111      1.377931     2.0      4.00      5.000   \n",
       "family   18.0      5.777778      1.664705     3.0      5.00      6.000   \n",
       "type     18.0      2.055556      0.872604     1.0      1.00      2.000   \n",
       "\n",
       "             75%      max  \n",
       "Age        12.00     12.0  \n",
       "Height    161.25    192.0  \n",
       "Weight     66.25     90.0  \n",
       "avg        86.75     94.0  \n",
       "income  33375.00  54100.0  \n",
       "rooms       5.75      7.0  \n",
       "family      7.00      8.0  \n",
       "type        3.00      3.0  "
      ]
     },
     "execution_count": 16,
     "metadata": {},
     "output_type": "execute_result"
    }
   ],
   "source": [
    "df.describe().T"
   ]
  },
  {
   "cell_type": "code",
   "execution_count": 17,
   "metadata": {},
   "outputs": [
    {
     "data": {
      "text/html": [
       "<div>\n",
       "<style scoped>\n",
       "    .dataframe tbody tr th:only-of-type {\n",
       "        vertical-align: middle;\n",
       "    }\n",
       "\n",
       "    .dataframe tbody tr th {\n",
       "        vertical-align: top;\n",
       "    }\n",
       "\n",
       "    .dataframe thead th {\n",
       "        text-align: right;\n",
       "    }\n",
       "</style>\n",
       "<table border=\"1\" class=\"dataframe\">\n",
       "  <thead>\n",
       "    <tr style=\"text-align: right;\">\n",
       "      <th></th>\n",
       "      <th>Name</th>\n",
       "      <th>Age</th>\n",
       "      <th>Country</th>\n",
       "      <th>Height</th>\n",
       "      <th>Weight</th>\n",
       "      <th>avg</th>\n",
       "      <th>income</th>\n",
       "      <th>rooms</th>\n",
       "      <th>family</th>\n",
       "      <th>gen</th>\n",
       "    </tr>\n",
       "  </thead>\n",
       "  <tbody>\n",
       "    <tr>\n",
       "      <td>12</td>\n",
       "      <td>lilach</td>\n",
       "      <td>9</td>\n",
       "      <td>ISR</td>\n",
       "      <td>192.000</td>\n",
       "      <td>88</td>\n",
       "      <td>94</td>\n",
       "      <td>23000</td>\n",
       "      <td>5</td>\n",
       "      <td>6</td>\n",
       "      <td>F</td>\n",
       "    </tr>\n",
       "    <tr>\n",
       "      <td>13</td>\n",
       "      <td>mia</td>\n",
       "      <td>9</td>\n",
       "      <td>NaN</td>\n",
       "      <td>139.125</td>\n",
       "      <td>49</td>\n",
       "      <td>82</td>\n",
       "      <td>12800</td>\n",
       "      <td>4</td>\n",
       "      <td>5</td>\n",
       "      <td>F</td>\n",
       "    </tr>\n",
       "    <tr>\n",
       "      <td>14</td>\n",
       "      <td>michal</td>\n",
       "      <td>9</td>\n",
       "      <td>US</td>\n",
       "      <td>132.000</td>\n",
       "      <td>53</td>\n",
       "      <td>79</td>\n",
       "      <td>20400</td>\n",
       "      <td>5</td>\n",
       "      <td>7</td>\n",
       "      <td>F</td>\n",
       "    </tr>\n",
       "    <tr>\n",
       "      <td>15</td>\n",
       "      <td>moshe</td>\n",
       "      <td>9</td>\n",
       "      <td>GR</td>\n",
       "      <td>128.000</td>\n",
       "      <td>43</td>\n",
       "      <td>80</td>\n",
       "      <td>42000</td>\n",
       "      <td>6</td>\n",
       "      <td>5</td>\n",
       "      <td>M</td>\n",
       "    </tr>\n",
       "    <tr>\n",
       "      <td>16</td>\n",
       "      <td>noya</td>\n",
       "      <td>9</td>\n",
       "      <td>SP</td>\n",
       "      <td>90.000</td>\n",
       "      <td>27</td>\n",
       "      <td>68</td>\n",
       "      <td>18200</td>\n",
       "      <td>6</td>\n",
       "      <td>5</td>\n",
       "      <td>F</td>\n",
       "    </tr>\n",
       "  </tbody>\n",
       "</table>\n",
       "</div>"
      ],
      "text/plain": [
       "      Name  Age Country   Height  Weight  avg  income  rooms  family gen\n",
       "12  lilach    9     ISR  192.000      88   94   23000      5       6   F\n",
       "13     mia    9     NaN  139.125      49   82   12800      4       5   F\n",
       "14  michal    9      US  132.000      53   79   20400      5       7   F\n",
       "15   moshe    9      GR  128.000      43   80   42000      6       5   M\n",
       "16    noya    9      SP   90.000      27   68   18200      6       5   F"
      ]
     },
     "execution_count": 17,
     "metadata": {},
     "output_type": "execute_result"
    }
   ],
   "source": [
    "df.drop(['type'],axis=1,inplace=True)\n",
    "df.head()"
   ]
  },
  {
   "cell_type": "code",
   "execution_count": 18,
   "metadata": {},
   "outputs": [
    {
     "data": {
      "text/html": [
       "<div>\n",
       "<style scoped>\n",
       "    .dataframe tbody tr th:only-of-type {\n",
       "        vertical-align: middle;\n",
       "    }\n",
       "\n",
       "    .dataframe tbody tr th {\n",
       "        vertical-align: top;\n",
       "    }\n",
       "\n",
       "    .dataframe thead th {\n",
       "        text-align: right;\n",
       "    }\n",
       "</style>\n",
       "<table border=\"1\" class=\"dataframe\">\n",
       "  <thead>\n",
       "    <tr style=\"text-align: right;\">\n",
       "      <th></th>\n",
       "      <th>Name</th>\n",
       "      <th>Age</th>\n",
       "      <th>Country</th>\n",
       "      <th>Height</th>\n",
       "      <th>Weight</th>\n",
       "      <th>avg</th>\n",
       "      <th>income</th>\n",
       "      <th>rooms</th>\n",
       "      <th>family</th>\n",
       "      <th>gen</th>\n",
       "    </tr>\n",
       "  </thead>\n",
       "  <tbody>\n",
       "    <tr>\n",
       "      <td>12</td>\n",
       "      <td>lilach</td>\n",
       "      <td>9</td>\n",
       "      <td>ISR</td>\n",
       "      <td>192.000</td>\n",
       "      <td>88</td>\n",
       "      <td>94</td>\n",
       "      <td>23000</td>\n",
       "      <td>5</td>\n",
       "      <td>6</td>\n",
       "      <td>2</td>\n",
       "    </tr>\n",
       "    <tr>\n",
       "      <td>13</td>\n",
       "      <td>mia</td>\n",
       "      <td>9</td>\n",
       "      <td>NaN</td>\n",
       "      <td>139.125</td>\n",
       "      <td>49</td>\n",
       "      <td>82</td>\n",
       "      <td>12800</td>\n",
       "      <td>4</td>\n",
       "      <td>5</td>\n",
       "      <td>2</td>\n",
       "    </tr>\n",
       "    <tr>\n",
       "      <td>14</td>\n",
       "      <td>michal</td>\n",
       "      <td>9</td>\n",
       "      <td>US</td>\n",
       "      <td>132.000</td>\n",
       "      <td>53</td>\n",
       "      <td>79</td>\n",
       "      <td>20400</td>\n",
       "      <td>5</td>\n",
       "      <td>7</td>\n",
       "      <td>2</td>\n",
       "    </tr>\n",
       "    <tr>\n",
       "      <td>15</td>\n",
       "      <td>moshe</td>\n",
       "      <td>9</td>\n",
       "      <td>GR</td>\n",
       "      <td>128.000</td>\n",
       "      <td>43</td>\n",
       "      <td>80</td>\n",
       "      <td>42000</td>\n",
       "      <td>6</td>\n",
       "      <td>5</td>\n",
       "      <td>1</td>\n",
       "    </tr>\n",
       "    <tr>\n",
       "      <td>16</td>\n",
       "      <td>noya</td>\n",
       "      <td>9</td>\n",
       "      <td>SP</td>\n",
       "      <td>90.000</td>\n",
       "      <td>27</td>\n",
       "      <td>68</td>\n",
       "      <td>18200</td>\n",
       "      <td>6</td>\n",
       "      <td>5</td>\n",
       "      <td>2</td>\n",
       "    </tr>\n",
       "    <tr>\n",
       "      <td>17</td>\n",
       "      <td>ofer</td>\n",
       "      <td>10</td>\n",
       "      <td>NaN</td>\n",
       "      <td>139.125</td>\n",
       "      <td>34</td>\n",
       "      <td>71</td>\n",
       "      <td>9300</td>\n",
       "      <td>4</td>\n",
       "      <td>8</td>\n",
       "      <td>1</td>\n",
       "    </tr>\n",
       "    <tr>\n",
       "      <td>18</td>\n",
       "      <td>ohad</td>\n",
       "      <td>10</td>\n",
       "      <td>ISR</td>\n",
       "      <td>159.000</td>\n",
       "      <td>64</td>\n",
       "      <td>83</td>\n",
       "      <td>12700</td>\n",
       "      <td>4</td>\n",
       "      <td>8</td>\n",
       "      <td>1</td>\n",
       "    </tr>\n",
       "    <tr>\n",
       "      <td>19</td>\n",
       "      <td>omer</td>\n",
       "      <td>10</td>\n",
       "      <td>US</td>\n",
       "      <td>162.000</td>\n",
       "      <td>68</td>\n",
       "      <td>87</td>\n",
       "      <td>34500</td>\n",
       "      <td>6</td>\n",
       "      <td>8</td>\n",
       "      <td>2</td>\n",
       "    </tr>\n",
       "    <tr>\n",
       "      <td>20</td>\n",
       "      <td>orit</td>\n",
       "      <td>12</td>\n",
       "      <td>US</td>\n",
       "      <td>123.000</td>\n",
       "      <td>40</td>\n",
       "      <td>78</td>\n",
       "      <td>18900</td>\n",
       "      <td>3</td>\n",
       "      <td>7</td>\n",
       "      <td>2</td>\n",
       "    </tr>\n",
       "    <tr>\n",
       "      <td>21</td>\n",
       "      <td>orit</td>\n",
       "      <td>11</td>\n",
       "      <td>NaN</td>\n",
       "      <td>175.000</td>\n",
       "      <td>73</td>\n",
       "      <td>89</td>\n",
       "      <td>54100</td>\n",
       "      <td>4</td>\n",
       "      <td>3</td>\n",
       "      <td>2</td>\n",
       "    </tr>\n",
       "    <tr>\n",
       "      <td>22</td>\n",
       "      <td>rina</td>\n",
       "      <td>11</td>\n",
       "      <td>EN</td>\n",
       "      <td>139.125</td>\n",
       "      <td>31</td>\n",
       "      <td>73</td>\n",
       "      <td>30000</td>\n",
       "      <td>2</td>\n",
       "      <td>5</td>\n",
       "      <td>2</td>\n",
       "    </tr>\n",
       "    <tr>\n",
       "      <td>23</td>\n",
       "      <td>shely</td>\n",
       "      <td>11</td>\n",
       "      <td>ISR</td>\n",
       "      <td>148.000</td>\n",
       "      <td>60</td>\n",
       "      <td>86</td>\n",
       "      <td>8000</td>\n",
       "      <td>4</td>\n",
       "      <td>3</td>\n",
       "      <td>2</td>\n",
       "    </tr>\n",
       "    <tr>\n",
       "      <td>24</td>\n",
       "      <td>talya</td>\n",
       "      <td>12</td>\n",
       "      <td>FR</td>\n",
       "      <td>167.000</td>\n",
       "      <td>67</td>\n",
       "      <td>89</td>\n",
       "      <td>10900</td>\n",
       "      <td>6</td>\n",
       "      <td>6</td>\n",
       "      <td>2</td>\n",
       "    </tr>\n",
       "    <tr>\n",
       "      <td>25</td>\n",
       "      <td>tomer</td>\n",
       "      <td>12</td>\n",
       "      <td>NaN</td>\n",
       "      <td>128.000</td>\n",
       "      <td>53</td>\n",
       "      <td>82</td>\n",
       "      <td>45000</td>\n",
       "      <td>5</td>\n",
       "      <td>4</td>\n",
       "      <td>1</td>\n",
       "    </tr>\n",
       "    <tr>\n",
       "      <td>26</td>\n",
       "      <td>udi</td>\n",
       "      <td>12</td>\n",
       "      <td>FR</td>\n",
       "      <td>139.125</td>\n",
       "      <td>55</td>\n",
       "      <td>85</td>\n",
       "      <td>35000</td>\n",
       "      <td>7</td>\n",
       "      <td>6</td>\n",
       "      <td>1</td>\n",
       "    </tr>\n",
       "    <tr>\n",
       "      <td>27</td>\n",
       "      <td>yafit</td>\n",
       "      <td>12</td>\n",
       "      <td>FR</td>\n",
       "      <td>180.000</td>\n",
       "      <td>90</td>\n",
       "      <td>93</td>\n",
       "      <td>12800</td>\n",
       "      <td>2</td>\n",
       "      <td>4</td>\n",
       "      <td>2</td>\n",
       "    </tr>\n",
       "    <tr>\n",
       "      <td>28</td>\n",
       "      <td>yoav</td>\n",
       "      <td>12</td>\n",
       "      <td>EN</td>\n",
       "      <td>120.000</td>\n",
       "      <td>36</td>\n",
       "      <td>74</td>\n",
       "      <td>17300</td>\n",
       "      <td>5</td>\n",
       "      <td>8</td>\n",
       "      <td>1</td>\n",
       "    </tr>\n",
       "    <tr>\n",
       "      <td>29</td>\n",
       "      <td>yosi</td>\n",
       "      <td>12</td>\n",
       "      <td>SP</td>\n",
       "      <td>110.000</td>\n",
       "      <td>32</td>\n",
       "      <td>74</td>\n",
       "      <td>22000</td>\n",
       "      <td>5</td>\n",
       "      <td>6</td>\n",
       "      <td>1</td>\n",
       "    </tr>\n",
       "  </tbody>\n",
       "</table>\n",
       "</div>"
      ],
      "text/plain": [
       "      Name  Age Country   Height  Weight  avg  income  rooms  family  gen\n",
       "12  lilach    9     ISR  192.000      88   94   23000      5       6    2\n",
       "13     mia    9     NaN  139.125      49   82   12800      4       5    2\n",
       "14  michal    9      US  132.000      53   79   20400      5       7    2\n",
       "15   moshe    9      GR  128.000      43   80   42000      6       5    1\n",
       "16    noya    9      SP   90.000      27   68   18200      6       5    2\n",
       "17    ofer   10     NaN  139.125      34   71    9300      4       8    1\n",
       "18    ohad   10     ISR  159.000      64   83   12700      4       8    1\n",
       "19    omer   10      US  162.000      68   87   34500      6       8    2\n",
       "20    orit   12      US  123.000      40   78   18900      3       7    2\n",
       "21    orit   11     NaN  175.000      73   89   54100      4       3    2\n",
       "22    rina   11      EN  139.125      31   73   30000      2       5    2\n",
       "23   shely   11     ISR  148.000      60   86    8000      4       3    2\n",
       "24   talya   12      FR  167.000      67   89   10900      6       6    2\n",
       "25   tomer   12     NaN  128.000      53   82   45000      5       4    1\n",
       "26     udi   12      FR  139.125      55   85   35000      7       6    1\n",
       "27   yafit   12      FR  180.000      90   93   12800      2       4    2\n",
       "28    yoav   12      EN  120.000      36   74   17300      5       8    1\n",
       "29    yosi   12      SP  110.000      32   74   22000      5       6    1"
      ]
     },
     "execution_count": 18,
     "metadata": {},
     "output_type": "execute_result"
    }
   ],
   "source": [
    "df['gen'].replace({'M':1 , 'F':2},inplace=True)\n",
    "df"
   ]
  },
  {
   "cell_type": "code",
   "execution_count": 19,
   "metadata": {},
   "outputs": [
    {
     "data": {
      "text/html": [
       "<div>\n",
       "<style scoped>\n",
       "    .dataframe tbody tr th:only-of-type {\n",
       "        vertical-align: middle;\n",
       "    }\n",
       "\n",
       "    .dataframe tbody tr th {\n",
       "        vertical-align: top;\n",
       "    }\n",
       "\n",
       "    .dataframe thead th {\n",
       "        text-align: right;\n",
       "    }\n",
       "</style>\n",
       "<table border=\"1\" class=\"dataframe\">\n",
       "  <thead>\n",
       "    <tr style=\"text-align: right;\">\n",
       "      <th></th>\n",
       "      <th>Name</th>\n",
       "      <th>Age</th>\n",
       "      <th>Country</th>\n",
       "      <th>Height</th>\n",
       "      <th>Weight</th>\n",
       "      <th>avg</th>\n",
       "      <th>income</th>\n",
       "      <th>rooms</th>\n",
       "      <th>family</th>\n",
       "      <th>gen</th>\n",
       "      <th>namelen</th>\n",
       "    </tr>\n",
       "  </thead>\n",
       "  <tbody>\n",
       "    <tr>\n",
       "      <td>12</td>\n",
       "      <td>lilach</td>\n",
       "      <td>9</td>\n",
       "      <td>ISR</td>\n",
       "      <td>192.000</td>\n",
       "      <td>88</td>\n",
       "      <td>94</td>\n",
       "      <td>23000</td>\n",
       "      <td>5</td>\n",
       "      <td>6</td>\n",
       "      <td>2</td>\n",
       "      <td>6</td>\n",
       "    </tr>\n",
       "    <tr>\n",
       "      <td>13</td>\n",
       "      <td>mia</td>\n",
       "      <td>9</td>\n",
       "      <td>NaN</td>\n",
       "      <td>139.125</td>\n",
       "      <td>49</td>\n",
       "      <td>82</td>\n",
       "      <td>12800</td>\n",
       "      <td>4</td>\n",
       "      <td>5</td>\n",
       "      <td>2</td>\n",
       "      <td>3</td>\n",
       "    </tr>\n",
       "    <tr>\n",
       "      <td>14</td>\n",
       "      <td>michal</td>\n",
       "      <td>9</td>\n",
       "      <td>US</td>\n",
       "      <td>132.000</td>\n",
       "      <td>53</td>\n",
       "      <td>79</td>\n",
       "      <td>20400</td>\n",
       "      <td>5</td>\n",
       "      <td>7</td>\n",
       "      <td>2</td>\n",
       "      <td>6</td>\n",
       "    </tr>\n",
       "    <tr>\n",
       "      <td>15</td>\n",
       "      <td>moshe</td>\n",
       "      <td>9</td>\n",
       "      <td>GR</td>\n",
       "      <td>128.000</td>\n",
       "      <td>43</td>\n",
       "      <td>80</td>\n",
       "      <td>42000</td>\n",
       "      <td>6</td>\n",
       "      <td>5</td>\n",
       "      <td>1</td>\n",
       "      <td>5</td>\n",
       "    </tr>\n",
       "    <tr>\n",
       "      <td>16</td>\n",
       "      <td>noya</td>\n",
       "      <td>9</td>\n",
       "      <td>SP</td>\n",
       "      <td>90.000</td>\n",
       "      <td>27</td>\n",
       "      <td>68</td>\n",
       "      <td>18200</td>\n",
       "      <td>6</td>\n",
       "      <td>5</td>\n",
       "      <td>2</td>\n",
       "      <td>4</td>\n",
       "    </tr>\n",
       "  </tbody>\n",
       "</table>\n",
       "</div>"
      ],
      "text/plain": [
       "      Name  Age Country   Height  Weight  avg  income  rooms  family  gen  \\\n",
       "12  lilach    9     ISR  192.000      88   94   23000      5       6    2   \n",
       "13     mia    9     NaN  139.125      49   82   12800      4       5    2   \n",
       "14  michal    9      US  132.000      53   79   20400      5       7    2   \n",
       "15   moshe    9      GR  128.000      43   80   42000      6       5    1   \n",
       "16    noya    9      SP   90.000      27   68   18200      6       5    2   \n",
       "\n",
       "    namelen  \n",
       "12        6  \n",
       "13        3  \n",
       "14        6  \n",
       "15        5  \n",
       "16        4  "
      ]
     },
     "execution_count": 19,
     "metadata": {},
     "output_type": "execute_result"
    }
   ],
   "source": [
    "df['namelen']=df.Name.apply(len)\n",
    "df.head()"
   ]
  },
  {
   "cell_type": "code",
   "execution_count": 20,
   "metadata": {},
   "outputs": [],
   "source": [
    "def myop(inc):\n",
    "    if inc < 10000:\n",
    "        return 1\n",
    "    else:\n",
    "        if inc < 30000:\n",
    "            return 2\n",
    "        else:\n",
    "            return 3"
   ]
  },
  {
   "cell_type": "code",
   "execution_count": 21,
   "metadata": {},
   "outputs": [],
   "source": [
    "df['new_inc'] = df.income.apply(myop)"
   ]
  },
  {
   "cell_type": "code",
   "execution_count": 22,
   "metadata": {},
   "outputs": [
    {
     "data": {
      "text/html": [
       "<div>\n",
       "<style scoped>\n",
       "    .dataframe tbody tr th:only-of-type {\n",
       "        vertical-align: middle;\n",
       "    }\n",
       "\n",
       "    .dataframe tbody tr th {\n",
       "        vertical-align: top;\n",
       "    }\n",
       "\n",
       "    .dataframe thead th {\n",
       "        text-align: right;\n",
       "    }\n",
       "</style>\n",
       "<table border=\"1\" class=\"dataframe\">\n",
       "  <thead>\n",
       "    <tr style=\"text-align: right;\">\n",
       "      <th></th>\n",
       "      <th>Name</th>\n",
       "      <th>Age</th>\n",
       "      <th>Country</th>\n",
       "      <th>Height</th>\n",
       "      <th>Weight</th>\n",
       "      <th>avg</th>\n",
       "      <th>income</th>\n",
       "      <th>rooms</th>\n",
       "      <th>family</th>\n",
       "      <th>gen</th>\n",
       "      <th>namelen</th>\n",
       "      <th>new_inc</th>\n",
       "    </tr>\n",
       "  </thead>\n",
       "  <tbody>\n",
       "    <tr>\n",
       "      <td>12</td>\n",
       "      <td>lilach</td>\n",
       "      <td>9</td>\n",
       "      <td>ISR</td>\n",
       "      <td>192.000</td>\n",
       "      <td>88</td>\n",
       "      <td>94</td>\n",
       "      <td>23000</td>\n",
       "      <td>5</td>\n",
       "      <td>6</td>\n",
       "      <td>2</td>\n",
       "      <td>6</td>\n",
       "      <td>2</td>\n",
       "    </tr>\n",
       "    <tr>\n",
       "      <td>13</td>\n",
       "      <td>mia</td>\n",
       "      <td>9</td>\n",
       "      <td>NaN</td>\n",
       "      <td>139.125</td>\n",
       "      <td>49</td>\n",
       "      <td>82</td>\n",
       "      <td>12800</td>\n",
       "      <td>4</td>\n",
       "      <td>5</td>\n",
       "      <td>2</td>\n",
       "      <td>3</td>\n",
       "      <td>2</td>\n",
       "    </tr>\n",
       "    <tr>\n",
       "      <td>14</td>\n",
       "      <td>michal</td>\n",
       "      <td>9</td>\n",
       "      <td>US</td>\n",
       "      <td>132.000</td>\n",
       "      <td>53</td>\n",
       "      <td>79</td>\n",
       "      <td>20400</td>\n",
       "      <td>5</td>\n",
       "      <td>7</td>\n",
       "      <td>2</td>\n",
       "      <td>6</td>\n",
       "      <td>2</td>\n",
       "    </tr>\n",
       "    <tr>\n",
       "      <td>15</td>\n",
       "      <td>moshe</td>\n",
       "      <td>9</td>\n",
       "      <td>GR</td>\n",
       "      <td>128.000</td>\n",
       "      <td>43</td>\n",
       "      <td>80</td>\n",
       "      <td>42000</td>\n",
       "      <td>6</td>\n",
       "      <td>5</td>\n",
       "      <td>1</td>\n",
       "      <td>5</td>\n",
       "      <td>3</td>\n",
       "    </tr>\n",
       "    <tr>\n",
       "      <td>16</td>\n",
       "      <td>noya</td>\n",
       "      <td>9</td>\n",
       "      <td>SP</td>\n",
       "      <td>90.000</td>\n",
       "      <td>27</td>\n",
       "      <td>68</td>\n",
       "      <td>18200</td>\n",
       "      <td>6</td>\n",
       "      <td>5</td>\n",
       "      <td>2</td>\n",
       "      <td>4</td>\n",
       "      <td>2</td>\n",
       "    </tr>\n",
       "  </tbody>\n",
       "</table>\n",
       "</div>"
      ],
      "text/plain": [
       "      Name  Age Country   Height  Weight  avg  income  rooms  family  gen  \\\n",
       "12  lilach    9     ISR  192.000      88   94   23000      5       6    2   \n",
       "13     mia    9     NaN  139.125      49   82   12800      4       5    2   \n",
       "14  michal    9      US  132.000      53   79   20400      5       7    2   \n",
       "15   moshe    9      GR  128.000      43   80   42000      6       5    1   \n",
       "16    noya    9      SP   90.000      27   68   18200      6       5    2   \n",
       "\n",
       "    namelen  new_inc  \n",
       "12        6        2  \n",
       "13        3        2  \n",
       "14        6        2  \n",
       "15        5        3  \n",
       "16        4        2  "
      ]
     },
     "execution_count": 22,
     "metadata": {},
     "output_type": "execute_result"
    }
   ],
   "source": [
    "df.head()"
   ]
  },
  {
   "cell_type": "code",
   "execution_count": 23,
   "metadata": {},
   "outputs": [
    {
     "data": {
      "text/plain": [
       "2    10\n",
       "3     6\n",
       "1     2\n",
       "Name: new_inc, dtype: int64"
      ]
     },
     "execution_count": 23,
     "metadata": {},
     "output_type": "execute_result"
    }
   ],
   "source": [
    "df.new_inc.value_counts()"
   ]
  },
  {
   "cell_type": "code",
   "execution_count": 24,
   "metadata": {},
   "outputs": [
    {
     "data": {
      "text/html": [
       "<div>\n",
       "<style scoped>\n",
       "    .dataframe tbody tr th:only-of-type {\n",
       "        vertical-align: middle;\n",
       "    }\n",
       "\n",
       "    .dataframe tbody tr th {\n",
       "        vertical-align: top;\n",
       "    }\n",
       "\n",
       "    .dataframe thead th {\n",
       "        text-align: right;\n",
       "    }\n",
       "</style>\n",
       "<table border=\"1\" class=\"dataframe\">\n",
       "  <thead>\n",
       "    <tr style=\"text-align: right;\">\n",
       "      <th></th>\n",
       "      <th>Name</th>\n",
       "      <th>Age</th>\n",
       "      <th>Country</th>\n",
       "      <th>Height</th>\n",
       "      <th>Weight</th>\n",
       "      <th>avg</th>\n",
       "      <th>income</th>\n",
       "      <th>rooms</th>\n",
       "      <th>family</th>\n",
       "      <th>gen</th>\n",
       "      <th>namelen</th>\n",
       "      <th>new_inc</th>\n",
       "      <th>new_inc3</th>\n",
       "    </tr>\n",
       "  </thead>\n",
       "  <tbody>\n",
       "    <tr>\n",
       "      <td>12</td>\n",
       "      <td>lilach</td>\n",
       "      <td>9</td>\n",
       "      <td>ISR</td>\n",
       "      <td>192.000</td>\n",
       "      <td>88</td>\n",
       "      <td>94</td>\n",
       "      <td>23000</td>\n",
       "      <td>5</td>\n",
       "      <td>6</td>\n",
       "      <td>2</td>\n",
       "      <td>6</td>\n",
       "      <td>2</td>\n",
       "      <td>True</td>\n",
       "    </tr>\n",
       "    <tr>\n",
       "      <td>13</td>\n",
       "      <td>mia</td>\n",
       "      <td>9</td>\n",
       "      <td>NaN</td>\n",
       "      <td>139.125</td>\n",
       "      <td>49</td>\n",
       "      <td>82</td>\n",
       "      <td>12800</td>\n",
       "      <td>4</td>\n",
       "      <td>5</td>\n",
       "      <td>2</td>\n",
       "      <td>3</td>\n",
       "      <td>2</td>\n",
       "      <td>False</td>\n",
       "    </tr>\n",
       "    <tr>\n",
       "      <td>14</td>\n",
       "      <td>michal</td>\n",
       "      <td>9</td>\n",
       "      <td>US</td>\n",
       "      <td>132.000</td>\n",
       "      <td>53</td>\n",
       "      <td>79</td>\n",
       "      <td>20400</td>\n",
       "      <td>5</td>\n",
       "      <td>7</td>\n",
       "      <td>2</td>\n",
       "      <td>6</td>\n",
       "      <td>2</td>\n",
       "      <td>True</td>\n",
       "    </tr>\n",
       "    <tr>\n",
       "      <td>15</td>\n",
       "      <td>moshe</td>\n",
       "      <td>9</td>\n",
       "      <td>GR</td>\n",
       "      <td>128.000</td>\n",
       "      <td>43</td>\n",
       "      <td>80</td>\n",
       "      <td>42000</td>\n",
       "      <td>6</td>\n",
       "      <td>5</td>\n",
       "      <td>1</td>\n",
       "      <td>5</td>\n",
       "      <td>3</td>\n",
       "      <td>True</td>\n",
       "    </tr>\n",
       "    <tr>\n",
       "      <td>16</td>\n",
       "      <td>noya</td>\n",
       "      <td>9</td>\n",
       "      <td>SP</td>\n",
       "      <td>90.000</td>\n",
       "      <td>27</td>\n",
       "      <td>68</td>\n",
       "      <td>18200</td>\n",
       "      <td>6</td>\n",
       "      <td>5</td>\n",
       "      <td>2</td>\n",
       "      <td>4</td>\n",
       "      <td>2</td>\n",
       "      <td>False</td>\n",
       "    </tr>\n",
       "  </tbody>\n",
       "</table>\n",
       "</div>"
      ],
      "text/plain": [
       "      Name  Age Country   Height  Weight  avg  income  rooms  family  gen  \\\n",
       "12  lilach    9     ISR  192.000      88   94   23000      5       6    2   \n",
       "13     mia    9     NaN  139.125      49   82   12800      4       5    2   \n",
       "14  michal    9      US  132.000      53   79   20400      5       7    2   \n",
       "15   moshe    9      GR  128.000      43   80   42000      6       5    1   \n",
       "16    noya    9      SP   90.000      27   68   18200      6       5    2   \n",
       "\n",
       "    namelen  new_inc  new_inc3  \n",
       "12        6        2      True  \n",
       "13        3        2     False  \n",
       "14        6        2      True  \n",
       "15        5        3      True  \n",
       "16        4        2     False  "
      ]
     },
     "execution_count": 24,
     "metadata": {},
     "output_type": "execute_result"
    }
   ],
   "source": [
    "df['new_inc3'] = df.income.apply(lambda x: x>20000)\n",
    "df.head()"
   ]
  },
  {
   "cell_type": "code",
   "execution_count": 25,
   "metadata": {},
   "outputs": [
    {
     "data": {
      "text/html": [
       "<div>\n",
       "<style scoped>\n",
       "    .dataframe tbody tr th:only-of-type {\n",
       "        vertical-align: middle;\n",
       "    }\n",
       "\n",
       "    .dataframe tbody tr th {\n",
       "        vertical-align: top;\n",
       "    }\n",
       "\n",
       "    .dataframe thead th {\n",
       "        text-align: right;\n",
       "    }\n",
       "</style>\n",
       "<table border=\"1\" class=\"dataframe\">\n",
       "  <thead>\n",
       "    <tr style=\"text-align: right;\">\n",
       "      <th></th>\n",
       "      <th>Name</th>\n",
       "      <th>Age</th>\n",
       "      <th>Country</th>\n",
       "      <th>Height</th>\n",
       "      <th>Weight</th>\n",
       "      <th>avg</th>\n",
       "      <th>income</th>\n",
       "      <th>rooms</th>\n",
       "      <th>family</th>\n",
       "      <th>gen</th>\n",
       "      <th>namelen</th>\n",
       "      <th>new_inc</th>\n",
       "      <th>new_inc3</th>\n",
       "      <th>new_inc4</th>\n",
       "    </tr>\n",
       "  </thead>\n",
       "  <tbody>\n",
       "    <tr>\n",
       "      <td>12</td>\n",
       "      <td>lilach</td>\n",
       "      <td>9</td>\n",
       "      <td>ISR</td>\n",
       "      <td>192.000</td>\n",
       "      <td>88</td>\n",
       "      <td>94</td>\n",
       "      <td>23000</td>\n",
       "      <td>5</td>\n",
       "      <td>6</td>\n",
       "      <td>2</td>\n",
       "      <td>6</td>\n",
       "      <td>2</td>\n",
       "      <td>True</td>\n",
       "      <td>999</td>\n",
       "    </tr>\n",
       "    <tr>\n",
       "      <td>13</td>\n",
       "      <td>mia</td>\n",
       "      <td>9</td>\n",
       "      <td>NaN</td>\n",
       "      <td>139.125</td>\n",
       "      <td>49</td>\n",
       "      <td>82</td>\n",
       "      <td>12800</td>\n",
       "      <td>4</td>\n",
       "      <td>5</td>\n",
       "      <td>2</td>\n",
       "      <td>3</td>\n",
       "      <td>2</td>\n",
       "      <td>False</td>\n",
       "      <td>888</td>\n",
       "    </tr>\n",
       "    <tr>\n",
       "      <td>14</td>\n",
       "      <td>michal</td>\n",
       "      <td>9</td>\n",
       "      <td>US</td>\n",
       "      <td>132.000</td>\n",
       "      <td>53</td>\n",
       "      <td>79</td>\n",
       "      <td>20400</td>\n",
       "      <td>5</td>\n",
       "      <td>7</td>\n",
       "      <td>2</td>\n",
       "      <td>6</td>\n",
       "      <td>2</td>\n",
       "      <td>True</td>\n",
       "      <td>999</td>\n",
       "    </tr>\n",
       "    <tr>\n",
       "      <td>15</td>\n",
       "      <td>moshe</td>\n",
       "      <td>9</td>\n",
       "      <td>GR</td>\n",
       "      <td>128.000</td>\n",
       "      <td>43</td>\n",
       "      <td>80</td>\n",
       "      <td>42000</td>\n",
       "      <td>6</td>\n",
       "      <td>5</td>\n",
       "      <td>1</td>\n",
       "      <td>5</td>\n",
       "      <td>3</td>\n",
       "      <td>True</td>\n",
       "      <td>999</td>\n",
       "    </tr>\n",
       "    <tr>\n",
       "      <td>16</td>\n",
       "      <td>noya</td>\n",
       "      <td>9</td>\n",
       "      <td>SP</td>\n",
       "      <td>90.000</td>\n",
       "      <td>27</td>\n",
       "      <td>68</td>\n",
       "      <td>18200</td>\n",
       "      <td>6</td>\n",
       "      <td>5</td>\n",
       "      <td>2</td>\n",
       "      <td>4</td>\n",
       "      <td>2</td>\n",
       "      <td>False</td>\n",
       "      <td>888</td>\n",
       "    </tr>\n",
       "  </tbody>\n",
       "</table>\n",
       "</div>"
      ],
      "text/plain": [
       "      Name  Age Country   Height  Weight  avg  income  rooms  family  gen  \\\n",
       "12  lilach    9     ISR  192.000      88   94   23000      5       6    2   \n",
       "13     mia    9     NaN  139.125      49   82   12800      4       5    2   \n",
       "14  michal    9      US  132.000      53   79   20400      5       7    2   \n",
       "15   moshe    9      GR  128.000      43   80   42000      6       5    1   \n",
       "16    noya    9      SP   90.000      27   68   18200      6       5    2   \n",
       "\n",
       "    namelen  new_inc  new_inc3  new_inc4  \n",
       "12        6        2      True       999  \n",
       "13        3        2     False       888  \n",
       "14        6        2      True       999  \n",
       "15        5        3      True       999  \n",
       "16        4        2     False       888  "
      ]
     },
     "execution_count": 25,
     "metadata": {},
     "output_type": "execute_result"
    }
   ],
   "source": [
    "df['new_inc4'] = df.income.apply(lambda x : 999 if x > 20000 else 888)\n",
    "df.head()"
   ]
  },
  {
   "cell_type": "code",
   "execution_count": 26,
   "metadata": {},
   "outputs": [],
   "source": [
    "def myop(inc):\n",
    "    if inc < 10000:\n",
    "        return 1\n",
    "    else:\n",
    "        if inc < 30000:\n",
    "            return 2\n",
    "        else:\n",
    "            return 3"
   ]
  },
  {
   "cell_type": "code",
   "execution_count": 27,
   "metadata": {},
   "outputs": [],
   "source": [
    "df['new_inc5'] = df.income.apply(lambda x : 1 if x < 10000 else 2 if x < 30000 else 3)"
   ]
  },
  {
   "cell_type": "code",
   "execution_count": 28,
   "metadata": {},
   "outputs": [],
   "source": [
    "##########################\n",
    "# check the binning:\n",
    "# hist on income vs. count plot on new_inc\n",
    "# use sb plot (displot and countplot) and pandas plot (hist and bar)"
   ]
  },
  {
   "cell_type": "markdown",
   "metadata": {},
   "source": [
    "# איך עושים ב- Panadas"
   ]
  },
  {
   "cell_type": "code",
   "execution_count": 29,
   "metadata": {},
   "outputs": [
    {
     "data": {
      "text/plain": [
       "<matplotlib.axes._subplots.AxesSubplot at 0x1f3533aa2c8>"
      ]
     },
     "execution_count": 29,
     "metadata": {},
     "output_type": "execute_result"
    },
    {
     "data": {
      "image/png": "[encoded data removed]",
      "text/plain": [
       "<Figure size 432x288 with 1 Axes>"
      ]
     },
     "metadata": {
      "needs_background": "light"
     },
     "output_type": "display_data"
    }
   ],
   "source": [
    "df.income.plot.hist(bins=30)"
   ]
  },
  {
   "cell_type": "code",
   "execution_count": 30,
   "metadata": {},
   "outputs": [
    {
     "data": {
      "text/plain": [
       "<matplotlib.axes._subplots.AxesSubplot at 0x1f353451348>"
      ]
     },
     "execution_count": 30,
     "metadata": {},
     "output_type": "execute_result"
    },
    {
     "data": {
      "image/png": "[encoded data removed]",
      "text/plain": [
       "<Figure size 432x288 with 1 Axes>"
      ]
     },
     "metadata": {
      "needs_background": "light"
     },
     "output_type": "display_data"
    }
   ],
   "source": [
    "df.new_inc.value_counts().plot.bar()"
   ]
  },
  {
   "cell_type": "code",
   "execution_count": 31,
   "metadata": {},
   "outputs": [
    {
     "data": {
      "text/plain": [
       "<matplotlib.axes._subplots.AxesSubplot at 0x1f3534b3cc8>"
      ]
     },
     "execution_count": 31,
     "metadata": {},
     "output_type": "execute_result"
    },
    {
     "data": {
      "image/png": "[encoded data removed]",
      "text/plain": [
       "<Figure size 432x288 with 1 Axes>"
      ]
     },
     "metadata": {
      "needs_background": "light"
     },
     "output_type": "display_data"
    }
   ],
   "source": [
    "df.new_inc.value_counts().sort_index().plot.bar()"
   ]
  },
  {
   "cell_type": "markdown",
   "metadata": {},
   "source": [
    "# איך עושים ב- Seaborn"
   ]
  },
  {
   "cell_type": "code",
   "execution_count": 32,
   "metadata": {},
   "outputs": [
    {
     "data": {
      "text/plain": [
       "<matplotlib.axes._subplots.AxesSubplot at 0x1f353517d08>"
      ]
     },
     "execution_count": 32,
     "metadata": {},
     "output_type": "execute_result"
    },
    {
     "data": {
      "image/png": "[encoded data removed]",
      "text/plain": [
       "<Figure size 432x288 with 1 Axes>"
      ]
     },
     "metadata": {
      "needs_background": "light"
     },
     "output_type": "display_data"
    }
   ],
   "source": [
    "import seaborn as sb\n",
    "sb.distplot(df.income, bins=30, kde=False)"
   ]
  },
  {
   "cell_type": "code",
   "execution_count": 33,
   "metadata": {},
   "outputs": [
    {
     "data": {
      "text/plain": [
       "<matplotlib.axes._subplots.AxesSubplot at 0x1f3535d7048>"
      ]
     },
     "execution_count": 33,
     "metadata": {},
     "output_type": "execute_result"
    },
    {
     "data": {
      "image/png": "[encoded data removed]",
      "text/plain": [
       "<Figure size 432x288 with 1 Axes>"
      ]
     },
     "metadata": {
      "needs_background": "light"
     },
     "output_type": "display_data"
    }
   ],
   "source": [
    "import seaborn as sb\n",
    "sb.countplot(df.new_inc)"
   ]
  },
  {
   "cell_type": "code",
   "execution_count": 34,
   "metadata": {},
   "outputs": [],
   "source": [
    "# Feature engineering"
   ]
  },
  {
   "cell_type": "code",
   "execution_count": 35,
   "metadata": {},
   "outputs": [],
   "source": [
    "def myop2(r):\n",
    "    print(\"=====\",r.Age , r.income)\n",
    "    return r.Age*r.income"
   ]
  },
  {
   "cell_type": "code",
   "execution_count": 36,
   "metadata": {},
   "outputs": [
    {
     "name": "stdout",
     "output_type": "stream",
     "text": [
      "===== 9 23000\n",
      "===== 9 12800\n",
      "===== 9 20400\n",
      "===== 9 42000\n",
      "===== 9 18200\n",
      "===== 10 9300\n",
      "===== 10 12700\n",
      "===== 10 34500\n",
      "===== 12 18900\n",
      "===== 11 54100\n",
      "===== 11 30000\n",
      "===== 11 8000\n",
      "===== 12 10900\n",
      "===== 12 45000\n",
      "===== 12 35000\n",
      "===== 12 12800\n",
      "===== 12 17300\n",
      "===== 12 22000\n"
     ]
    }
   ],
   "source": [
    "df['new2'] = df.apply(myop2,axis=1)"
   ]
  },
  {
   "cell_type": "code",
   "execution_count": 37,
   "metadata": {},
   "outputs": [
    {
     "data": {
      "text/plain": [
       "[192.0,\n",
       " 139.125,\n",
       " 132.0,\n",
       " 128.0,\n",
       " 90.0,\n",
       " 139.125,\n",
       " 159.0,\n",
       " 162.0,\n",
       " 123.0,\n",
       " 175.0,\n",
       " 139.125,\n",
       " 148.0,\n",
       " 167.0,\n",
       " 128.0,\n",
       " 139.125,\n",
       " 180.0,\n",
       " 120.0,\n",
       " 110.0]"
      ]
     },
     "execution_count": 37,
     "metadata": {},
     "output_type": "execute_result"
    }
   ],
   "source": [
    "list(df.Height)"
   ]
  },
  {
   "cell_type": "code",
   "execution_count": 38,
   "metadata": {},
   "outputs": [
    {
     "data": {
      "text/plain": [
       "array([4, 2, 2, 1, 0, 2, 3, 4, 1, 4, 2, 2, 4, 1, 2, 4, 1, 0], dtype=int64)"
      ]
     },
     "execution_count": 38,
     "metadata": {},
     "output_type": "execute_result"
    }
   ],
   "source": [
    "# right bin edge\n",
    "# try with right=False (look in documantation)\n",
    "np.digitize(df.Height, [110,130,150,160], right=True)"
   ]
  },
  {
   "cell_type": "code",
   "execution_count": 39,
   "metadata": {},
   "outputs": [
    {
     "data": {
      "text/plain": [
       "array([4, 2, 2, 1, 0, 2, 3, 4, 1, 4, 2, 2, 4, 1, 2, 4, 1, 1], dtype=int64)"
      ]
     },
     "execution_count": 39,
     "metadata": {},
     "output_type": "execute_result"
    }
   ],
   "source": [
    "# right bin edge\n",
    "# try with right=False (look in documantation)\n",
    "np.digitize(df.Height, [110,130,150,160], right=False)"
   ]
  },
  {
   "cell_type": "code",
   "execution_count": 40,
   "metadata": {},
   "outputs": [
    {
     "data": {
      "text/plain": [
       "12    2\n",
       "13    2\n",
       "14    2\n",
       "15    1\n",
       "16    2\n",
       "Name: gen, dtype: int64"
      ]
     },
     "execution_count": 40,
     "metadata": {},
     "output_type": "execute_result"
    }
   ],
   "source": [
    "df.gen.head()"
   ]
  },
  {
   "cell_type": "code",
   "execution_count": 41,
   "metadata": {},
   "outputs": [
    {
     "data": {
      "text/html": [
       "<div>\n",
       "<style scoped>\n",
       "    .dataframe tbody tr th:only-of-type {\n",
       "        vertical-align: middle;\n",
       "    }\n",
       "\n",
       "    .dataframe tbody tr th {\n",
       "        vertical-align: top;\n",
       "    }\n",
       "\n",
       "    .dataframe thead th {\n",
       "        text-align: right;\n",
       "    }\n",
       "</style>\n",
       "<table border=\"1\" class=\"dataframe\">\n",
       "  <thead>\n",
       "    <tr style=\"text-align: right;\">\n",
       "      <th></th>\n",
       "      <th>1</th>\n",
       "      <th>2</th>\n",
       "    </tr>\n",
       "  </thead>\n",
       "  <tbody>\n",
       "    <tr>\n",
       "      <td>12</td>\n",
       "      <td>0</td>\n",
       "      <td>1</td>\n",
       "    </tr>\n",
       "    <tr>\n",
       "      <td>13</td>\n",
       "      <td>0</td>\n",
       "      <td>1</td>\n",
       "    </tr>\n",
       "    <tr>\n",
       "      <td>14</td>\n",
       "      <td>0</td>\n",
       "      <td>1</td>\n",
       "    </tr>\n",
       "    <tr>\n",
       "      <td>15</td>\n",
       "      <td>1</td>\n",
       "      <td>0</td>\n",
       "    </tr>\n",
       "    <tr>\n",
       "      <td>16</td>\n",
       "      <td>0</td>\n",
       "      <td>1</td>\n",
       "    </tr>\n",
       "  </tbody>\n",
       "</table>\n",
       "</div>"
      ],
      "text/plain": [
       "    1  2\n",
       "12  0  1\n",
       "13  0  1\n",
       "14  0  1\n",
       "15  1  0\n",
       "16  0  1"
      ]
     },
     "execution_count": 41,
     "metadata": {},
     "output_type": "execute_result"
    }
   ],
   "source": [
    "pd.get_dummies(df.gen).head()"
   ]
  },
  {
   "cell_type": "code",
   "execution_count": 42,
   "metadata": {},
   "outputs": [
    {
     "data": {
      "text/html": [
       "<div>\n",
       "<style scoped>\n",
       "    .dataframe tbody tr th:only-of-type {\n",
       "        vertical-align: middle;\n",
       "    }\n",
       "\n",
       "    .dataframe tbody tr th {\n",
       "        vertical-align: top;\n",
       "    }\n",
       "\n",
       "    .dataframe thead th {\n",
       "        text-align: right;\n",
       "    }\n",
       "</style>\n",
       "<table border=\"1\" class=\"dataframe\">\n",
       "  <thead>\n",
       "    <tr style=\"text-align: right;\">\n",
       "      <th></th>\n",
       "      <th>2</th>\n",
       "    </tr>\n",
       "  </thead>\n",
       "  <tbody>\n",
       "    <tr>\n",
       "      <td>12</td>\n",
       "      <td>1</td>\n",
       "    </tr>\n",
       "    <tr>\n",
       "      <td>13</td>\n",
       "      <td>1</td>\n",
       "    </tr>\n",
       "    <tr>\n",
       "      <td>14</td>\n",
       "      <td>1</td>\n",
       "    </tr>\n",
       "    <tr>\n",
       "      <td>15</td>\n",
       "      <td>0</td>\n",
       "    </tr>\n",
       "    <tr>\n",
       "      <td>16</td>\n",
       "      <td>1</td>\n",
       "    </tr>\n",
       "  </tbody>\n",
       "</table>\n",
       "</div>"
      ],
      "text/plain": [
       "    2\n",
       "12  1\n",
       "13  1\n",
       "14  1\n",
       "15  0\n",
       "16  1"
      ]
     },
     "execution_count": 42,
     "metadata": {},
     "output_type": "execute_result"
    }
   ],
   "source": [
    "pd.get_dummies(df.gen, drop_first=True).head()"
   ]
  },
  {
   "cell_type": "code",
   "execution_count": 43,
   "metadata": {},
   "outputs": [
    {
     "data": {
      "text/plain": [
       "12    L\n",
       "13    M\n",
       "14    M\n",
       "15    M\n",
       "16    S\n",
       "17    M\n",
       "18    L\n",
       "19    L\n",
       "20    S\n",
       "21    L\n",
       "22    M\n",
       "23    M\n",
       "24    L\n",
       "25    M\n",
       "26    M\n",
       "27    L\n",
       "28    S\n",
       "29    S\n",
       "Name: Height, dtype: category\n",
       "Categories (3, object): [S < M < L]"
      ]
     },
     "execution_count": 43,
     "metadata": {},
     "output_type": "execute_result"
    }
   ],
   "source": [
    "# by range/4\n",
    "pd.cut(df.Height,bins=3,labels=['S','M','L'])"
   ]
  },
  {
   "cell_type": "code",
   "execution_count": 44,
   "metadata": {},
   "outputs": [],
   "source": [
    "# by quartiles\n",
    "df['Height1']=pd.qcut(df.Height,q=[0,0.1,0.8,1],labels=['S','M','L'])"
   ]
  },
  {
   "cell_type": "code",
   "execution_count": 45,
   "metadata": {},
   "outputs": [
    {
     "data": {
      "text/plain": [
       "12    L\n",
       "13    M\n",
       "14    M\n",
       "15    M\n",
       "16    S\n",
       "17    M\n",
       "18    M\n",
       "19    M\n",
       "20    M\n",
       "21    L\n",
       "22    M\n",
       "23    M\n",
       "24    L\n",
       "25    M\n",
       "26    M\n",
       "27    L\n",
       "28    M\n",
       "29    S\n",
       "Name: Height1, dtype: category\n",
       "Categories (3, object): [S < M < L]"
      ]
     },
     "execution_count": 45,
     "metadata": {},
     "output_type": "execute_result"
    }
   ],
   "source": [
    "df.Height1"
   ]
  },
  {
   "cell_type": "code",
   "execution_count": 46,
   "metadata": {},
   "outputs": [],
   "source": [
    "#############################\n",
    "# countplot the above\n",
    "# make a qcut in a way that a countplot of S,M,L will be flat\n",
    "# try with 4 bins, what happens, why? what could be done?"
   ]
  },
  {
   "cell_type": "code",
   "execution_count": 47,
   "metadata": {},
   "outputs": [
    {
     "data": {
      "text/plain": [
       "<matplotlib.axes._subplots.AxesSubplot at 0x1f35365f388>"
      ]
     },
     "execution_count": 47,
     "metadata": {},
     "output_type": "execute_result"
    },
    {
     "data": {
      "image/png": "[encoded data removed]",
      "text/plain": [
       "<Figure size 432x288 with 1 Axes>"
      ]
     },
     "metadata": {
      "needs_background": "light"
     },
     "output_type": "display_data"
    }
   ],
   "source": [
    "import seaborn as sb\n",
    "sb.distplot(df.Height)"
   ]
  },
  {
   "cell_type": "code",
   "execution_count": 48,
   "metadata": {},
   "outputs": [
    {
     "data": {
      "text/plain": [
       "<matplotlib.axes._subplots.AxesSubplot at 0x1f3536dbfc8>"
      ]
     },
     "execution_count": 48,
     "metadata": {},
     "output_type": "execute_result"
    },
    {
     "data": {
      "image/png": "[encoded data removed]",
      "text/plain": [
       "<Figure size 432x288 with 1 Axes>"
      ]
     },
     "metadata": {
      "needs_background": "light"
     },
     "output_type": "display_data"
    }
   ],
   "source": [
    "sb.countplot(pd.qcut(df.Height,q=[0,0.1,0.8,1],labels=['S','M','L']))"
   ]
  },
  {
   "cell_type": "code",
   "execution_count": 49,
   "metadata": {},
   "outputs": [
    {
     "data": {
      "text/plain": [
       "<matplotlib.axes._subplots.AxesSubplot at 0x1f3537310c8>"
      ]
     },
     "execution_count": 49,
     "metadata": {},
     "output_type": "execute_result"
    },
    {
     "data": {
      "image/png": "[encoded data removed]",
      "text/plain": [
       "<Figure size 432x288 with 1 Axes>"
      ]
     },
     "metadata": {
      "needs_background": "light"
     },
     "output_type": "display_data"
    }
   ],
   "source": [
    "sb.countplot(pd.qcut(df.Height,q=[0,1/3,2/3,1],labels=['S','M','L']))"
   ]
  },
  {
   "cell_type": "code",
   "execution_count": 50,
   "metadata": {},
   "outputs": [
    {
     "data": {
      "text/plain": [
       "<matplotlib.axes._subplots.AxesSubplot at 0x1f353796108>"
      ]
     },
     "execution_count": 50,
     "metadata": {},
     "output_type": "execute_result"
    },
    {
     "data": {
      "image/png": "[encoded data removed]",
      "text/plain": [
       "<Figure size 432x288 with 1 Axes>"
      ]
     },
     "metadata": {
      "needs_background": "light"
     },
     "output_type": "display_data"
    }
   ],
   "source": [
    "sb.countplot(pd.qcut(df.Height,q=3,labels=['S','M','L']))"
   ]
  },
  {
   "cell_type": "code",
   "execution_count": 51,
   "metadata": {},
   "outputs": [
    {
     "data": {
      "text/plain": [
       "<matplotlib.axes._subplots.AxesSubplot at 0x1f3537eef88>"
      ]
     },
     "execution_count": 51,
     "metadata": {},
     "output_type": "execute_result"
    },
    {
     "data": {
      "image/png": "[encoded data removed]",
      "text/plain": [
       "<Figure size 432x288 with 1 Axes>"
      ]
     },
     "metadata": {
      "needs_background": "light"
     },
     "output_type": "display_data"
    }
   ],
   "source": [
    "sb.countplot(pd.qcut(df.Height,q=4,labels=['S','M','L','XL']))"
   ]
  },
  {
   "cell_type": "code",
   "execution_count": 52,
   "metadata": {},
   "outputs": [
    {
     "data": {
      "text/plain": [
       "count     18.000000\n",
       "mean     142.805556\n",
       "std       25.974401\n",
       "min       90.000000\n",
       "25%      128.000000\n",
       "50%      139.125000\n",
       "75%      161.250000\n",
       "max      192.000000\n",
       "Name: Height, dtype: float64"
      ]
     },
     "execution_count": 52,
     "metadata": {},
     "output_type": "execute_result"
    }
   ],
   "source": [
    "df.Height.describe()"
   ]
  },
  {
   "cell_type": "code",
   "execution_count": 53,
   "metadata": {},
   "outputs": [
    {
     "data": {
      "text/plain": [
       "139.125    4\n",
       "128.000    2\n",
       "110.000    1\n",
       "120.000    1\n",
       "180.000    1\n",
       "167.000    1\n",
       "148.000    1\n",
       "175.000    1\n",
       "123.000    1\n",
       "162.000    1\n",
       "159.000    1\n",
       "90.000     1\n",
       "132.000    1\n",
       "192.000    1\n",
       "Name: Height, dtype: int64"
      ]
     },
     "execution_count": 53,
     "metadata": {},
     "output_type": "execute_result"
    }
   ],
   "source": [
    "df.Height.value_counts()"
   ]
  },
  {
   "cell_type": "code",
   "execution_count": 54,
   "metadata": {},
   "outputs": [
    {
     "data": {
      "text/plain": [
       "0.537610042097013"
      ]
     },
     "execution_count": 54,
     "metadata": {},
     "output_type": "execute_result"
    }
   ],
   "source": [
    "np.random.randn()"
   ]
  },
  {
   "cell_type": "code",
   "execution_count": 55,
   "metadata": {},
   "outputs": [
    {
     "data": {
      "text/plain": [
       "<matplotlib.axes._subplots.AxesSubplot at 0x1f353861848>"
      ]
     },
     "execution_count": 55,
     "metadata": {},
     "output_type": "execute_result"
    },
    {
     "data": {
      "image/png": "[encoded data removed]",
      "text/plain": [
       "<Figure size 432x288 with 1 Axes>"
      ]
     },
     "metadata": {
      "needs_background": "light"
     },
     "output_type": "display_data"
    }
   ],
   "source": [
    "df['Height3']=pd.cut(df.Height,bins=4,labels=['S','M','L','XL'])\n",
    "sb.countplot(df.Height3)"
   ]
  }
 ],
 "metadata": {
  "kernelspec": {
   "display_name": "Python 3",
   "language": "python",
   "name": "python3"
  },
  "language_info": {
   "codemirror_mode": {
    "name": "ipython",
    "version": 3
   },
   "file_extension": ".py",
   "mimetype": "text/x-python",
   "name": "python",
   "nbconvert_exporter": "python",
   "pygments_lexer": "ipython3",
   "version": "3.7.4"
  }
 },
 "nbformat": 4,
 "nbformat_minor": 2
}
